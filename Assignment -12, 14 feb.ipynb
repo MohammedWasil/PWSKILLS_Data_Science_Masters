{
 "cells": [
  {
   "cell_type": "markdown",
   "id": "0e32c03d",
   "metadata": {},
   "source": [
    "# PW Skills Data Science Masters \n",
    "\n",
    "## Assignment "
   ]
  },
  {
   "cell_type": "markdown",
   "id": "25a80ba8",
   "metadata": {},
   "source": [
    "##### Q1.- What is multithreading in python? Why is it used? Name the module used to handle threads in python.\n",
    "##### Ans- Multithreading is a threading technique in Python programming to run multiple threads concurrently by rapidly switching between threads with the help of CPU.\n",
    "##### It is a very useful technique for time-saving and improving the performance of an application. Multithreading allows the programmer to divide application tasks into sub-tasks and simultaneously run them in a program. It allows threads to communicate and share resources such as files, data, and memory to the same processorhreading module is used for creating, controlling and managing threads in python.\n",
    "##### The Threading module is used for creating, controlling and managing threads in python.\n"
   ]
  },
  {
   "cell_type": "code",
   "execution_count": null,
   "id": "fccafcce",
   "metadata": {},
   "outputs": [],
   "source": []
  },
  {
   "cell_type": "markdown",
   "id": "10534bf6",
   "metadata": {},
   "source": [
    "##### Q2.- Why threading module used? Write the use of the following functions\n",
    "######  activeCount()\n",
    "###### currentThread()\n",
    "###### enumerate()\n",
    "###### Ans-  Python threads are used in cases where the execution of a task involves some waiting. One example would be interaction with a service hosted on another computer, such as a webserver. Threading allows python to execute other code while waiting; this is easily simulated with the sleep function.\n",
    "\n",
    "###### threading.activeCount() − Returns the number of thread objects that are active.\n",
    "###### threading.currentThread() − Returns the number of thread objects in the caller's thread control.\n",
    "###### threading.enumerate() − Returns a list of all thread objects that are currently active."
   ]
  },
  {
   "cell_type": "code",
   "execution_count": null,
   "id": "ab177136",
   "metadata": {},
   "outputs": [],
   "source": []
  },
  {
   "cell_type": "markdown",
   "id": "ed0e8179",
   "metadata": {},
   "source": [
    "###### 3. Explain the following functions\n",
    "######  run()\n",
    "###### start()\n",
    "###### join()\n",
    "###### isAlive()\n",
    "###### Ans- run()  − The run() method is the entry point for a thread.\n",
    "###### start()  − The start() method starts a thread by calling the run method.\n",
    "###### join([time])  − The join() waits for threads to terminate.\n",
    "###### isAlive()  − The isAlive() method checks whether a thread is still executing."
   ]
  },
  {
   "cell_type": "code",
   "execution_count": null,
   "id": "168c8a4f",
   "metadata": {},
   "outputs": [],
   "source": []
  },
  {
   "cell_type": "markdown",
   "id": "1ed0a3a5",
   "metadata": {},
   "source": [
    "##### Q4. Write a python program to create two threads. Thread one must print the list of squares and thread two must print the list of cubes"
   ]
  },
  {
   "cell_type": "code",
   "execution_count": 1,
   "id": "75df57f7",
   "metadata": {},
   "outputs": [
    {
     "name": "stdout",
     "output_type": "stream",
     "text": [
      "Square: 100\n",
      "Cube: 1000\n"
     ]
    }
   ],
   "source": [
    "import threading\n",
    " \n",
    "def print_cube(num):\n",
    "    print(\"Cube: {}\" .format(num * num * num))\n",
    " \n",
    " \n",
    "def print_square(num):\n",
    "    print(\"Square: {}\" .format(num * num))\n",
    "if __name__ ==\"__main__\":\n",
    "    \n",
    "    t1 = threading.Thread(target=print_square, args=(10,))\n",
    "    t2 = threading.Thread(target=print_cube, args=(10,)) \n",
    "        \n",
    "    t1.start()\n",
    "    t2.start()\n",
    "    t1.join()\n",
    "    t2.join()\n",
    "  \n"
   ]
  },
  {
   "cell_type": "markdown",
   "id": "22c8fabc",
   "metadata": {},
   "source": [
    "##### Q5.- State advantages and disadvantages of multithreading.\n",
    "##### Ans- Advantages:-\n",
    "###### 1- Improved performance and concurrency\n",
    "###### 2- Improved throughput. \n",
    "###### 3- Superior application responsiveness.\n",
    "###### 4- Improved server responsiveness. \n",
    "###### 5- Minimized system resource usage. \n",
    "###### 6- Program structure simplification. \n",
    "#####  Disadvantages:-\n",
    "###### 1- Difficulty of writing code. Multithreaded and multicontexted applications are not easy to write. \n",
    "###### 2-  Difficulty of debugging. \n",
    "###### 3- Difficulty of managing concurrency.\n",
    "###### 4- Difficulty of testing.\n",
    "###### 5- Difficulty of porting existing code."
   ]
  },
  {
   "cell_type": "code",
   "execution_count": null,
   "id": "e8f62991",
   "metadata": {},
   "outputs": [],
   "source": []
  },
  {
   "cell_type": "markdown",
   "id": "285590ae",
   "metadata": {},
   "source": [
    "##### 6. Explain deadlocks and race conditions.\n",
    "##### Ans- Deadlock:- When two processes are waiting for each other directly or indirectly, it is called deadlock. This usually occurs when two processes are waiting for shared resources acquired by others. For example, If thread T1 acquired resource R1 and it also needs resource R2 for it to accomplish its task.\n",
    "##### Race Conditions:- A race condition is an undesirable situation that occurs when a device or system attempts to perform two or more operations at the same time, but because of the nature of the device or system, the operations must be done in the proper sequence to be done correctly. Race conditions are most commonly associated with computer science and programming. They occur when two computer program processes, or threads, attempt to access the same resource at the same time and cause problems in the system. Race conditions are considered a common issue for multithreaded applications.\n",
    "\n"
   ]
  },
  {
   "cell_type": "code",
   "execution_count": null,
   "id": "d123e481",
   "metadata": {},
   "outputs": [],
   "source": []
  }
 ],
 "metadata": {
  "kernelspec": {
   "display_name": "Python 3 (ipykernel)",
   "language": "python",
   "name": "python3"
  },
  "language_info": {
   "codemirror_mode": {
    "name": "ipython",
    "version": 3
   },
   "file_extension": ".py",
   "mimetype": "text/x-python",
   "name": "python",
   "nbconvert_exporter": "python",
   "pygments_lexer": "ipython3",
   "version": "3.9.13"
  }
 },
 "nbformat": 4,
 "nbformat_minor": 5
}
