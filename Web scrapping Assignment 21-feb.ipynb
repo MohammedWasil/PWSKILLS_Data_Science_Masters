{
 "cells": [
  {
   "cell_type": "markdown",
   "id": "fe8166db",
   "metadata": {},
   "source": [
    "##### Q1. What is Web Scraping? Why is it Used? Give three areas where Web Scraping is used to get data.\n",
    "##### Ans- Web scraping is the process of collecting structured web data in an automated fashion. It's also known as web data extraction. Some of the main use cases of web scraping include price monitoring, price intelligence, news monitoring, lead generation, and market research among many others.Web scraping is used in a variety of digital businesses that rely on data harvesting. Legitimate use cases include: Search engine bots crawling a site, analyzing its content and then ranking it. Price comparison sites deploying bots to auto-fetch prices and product descriptions for allied seller websites."
   ]
  },
  {
   "cell_type": "code",
   "execution_count": null,
   "id": "ac435bbb",
   "metadata": {},
   "outputs": [],
   "source": []
  },
  {
   "cell_type": "markdown",
   "id": "deab45ec",
   "metadata": {},
   "source": [
    "##### Q2. What are the different methods used for Web Scraping?\n",
    "##### Ans- Google Sheets is a popular tool for data scraping. Scarpers can use the IMPORTXML function in Sheets to scrape from a website, which is useful if they want to extract a specific pattern or data from the website. This command also makes it possible to check if a website can be scraped or is protected. There are three main types of data scraping: Report mining: Programs pull data from websites into user-generated reports. It's a bit like printing a page, but the printer is the user's report. Screen scraping: The tool pulls information on legacy machines into modern versions."
   ]
  },
  {
   "cell_type": "code",
   "execution_count": null,
   "id": "c0db15cd",
   "metadata": {},
   "outputs": [],
   "source": []
  },
  {
   "cell_type": "markdown",
   "id": "9c2e3557",
   "metadata": {},
   "source": [
    "##### Q3. What is Beautiful Soup? Why is it used?\n",
    "##### Ans- Beautiful Soup is a Python package for parsing HTML and XML documents (including having malformed markup, i.e. non-closed tags, so named after tag soup). It creates a parse tree for parsed pages that can be used to extract data from HTML, which is useful for web scraping."
   ]
  },
  {
   "cell_type": "code",
   "execution_count": null,
   "id": "b69183c4",
   "metadata": {},
   "outputs": [],
   "source": []
  },
  {
   "cell_type": "markdown",
   "id": "de9dd69b",
   "metadata": {},
   "source": [
    "##### Q4. Why is flask used in this Web Scraping project?\n",
    "##### Ans- Flask is a lightweight framework to build websites. We'll use this to parse our collected data and display it as HTML in a new HTML file. The requests module allows us to send http requests to the website we want to scrape. The first line imports the Flask class and the render_template method from the flask library."
   ]
  },
  {
   "cell_type": "code",
   "execution_count": null,
   "id": "1e309253",
   "metadata": {},
   "outputs": [],
   "source": []
  },
  {
   "cell_type": "markdown",
   "id": "d6632e92",
   "metadata": {},
   "source": [
    "##### Q5. Write the names of AWS services used in this project. Also, explain the use of each service\n",
    "##### Ans- AWS services are Amazon's cloud platform products. They play an inevitable role in the cloud services industry across the globe.\n",
    "###### 1. Amazon EC2 (Elastic Compute Cloud) · \n",
    "###### 2. Amazon RDS (Relational Database Services) \n",
    "###### 3. Amazon S3 (Simple Storage Service) \n",
    "###### 4. Amazon Lambda \n",
    "###### 5. Amazon Cognito."
   ]
  },
  {
   "cell_type": "markdown",
   "id": "4fb78d31",
   "metadata": {},
   "source": [
    "######  Amazon EC2 (Elastic Compute Cloud):-  EC2 is a cloud platform provided by Amazon that offers secure, and resizable compute capacity. Its purpose is to enable easy access and usability to developers for web-scale cloud computing, while allowing for total control of your compute resources. Deploy applications rapidly without the need for investing in hardware upfront; all the while able to launch virtual servers as-needed and at scale.\n",
    "###### Amazon RDS (Relational Database Services):- Amazon Relational Database Service (Amazon RDS) makes database configuration, management, and scaling easy in the cloud. Automate tedious tasks such as hardware provisioning, database arrangement, patching, and backups – cost-effectively and proportionate to your needs. RDS is available on various database instances which are optimized for performance and memory, providing six familiar database engines including Amazon Aurora, PostgreSQL, MySQL, MariaDB, Oracle. database, and SQL server. By leveraging the AWS Database Migration Service, you can easily migrate or reproduce your existing databases to Amazon RDS. Visit Amazon’s RDS page.\n",
    "###### 3. Amazon S3 (Simple Storage Service):- Amazon S3, at its core, facilitates object storage, providing leading scalability, data availability, security, and performance. Businesses of vast sizes can leverage S3 for storage and protect large sums of data for various use cases, such as websites, applications, backup, and more. Amazon S3’s intuitive management features enable the frictionless organization of data and configurable access controls.\n",
    "###### 4. Amazon Lambda:- Lambda permits you to run code without owning or managing servers. Users only pay for the compute time consumed. Operate code for nearly any application or backend utility without administration. Users just upload the code, and Lambda does the rest, which provides precise software scaling and extensive availability.\n",
    "###### 5. Amazon Cognito:- AWS Cognito administers a control access dashboard for on-boarding users through sign-up, and sign-in features to their web and mobile apps. AWS Cognito scales to millions of users and offers sign-in support with social identity providers including Facebook, Google, and Amazon, along with enterprise identity providers via SAML 2.0.\n",
    "\n"
   ]
  },
  {
   "cell_type": "code",
   "execution_count": null,
   "id": "e0fa236d",
   "metadata": {},
   "outputs": [],
   "source": []
  }
 ],
 "metadata": {
  "kernelspec": {
   "display_name": "Python 3 (ipykernel)",
   "language": "python",
   "name": "python3"
  },
  "language_info": {
   "codemirror_mode": {
    "name": "ipython",
    "version": 3
   },
   "file_extension": ".py",
   "mimetype": "text/x-python",
   "name": "python",
   "nbconvert_exporter": "python",
   "pygments_lexer": "ipython3",
   "version": "3.9.13"
  }
 },
 "nbformat": 4,
 "nbformat_minor": 5
}
