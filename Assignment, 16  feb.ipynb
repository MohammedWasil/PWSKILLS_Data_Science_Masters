{
 "cells": [
  {
   "cell_type": "markdown",
   "id": "b95e37bc",
   "metadata": {},
   "source": [
    "# PW Skills Data Science Masters \n",
    "\n",
    "## Assignment "
   ]
  },
  {
   "cell_type": "markdown",
   "id": "92bdda46",
   "metadata": {},
   "source": [
    "##### Q1. What is a database? Differentiate between SQL and NoSQL databases.\n",
    "##### Ans- A database is an organized collection of structured information, or data, typically stored electronically in a computer system. A database is usually controlled by a database management system (DBMS). Together, the data and the DBMS, along with the applications that are associated with them, are referred to as a database system, often shortened to just database.\n"
   ]
  },
  {
   "cell_type": "markdown",
   "id": "c0f24c4c",
   "metadata": {},
   "source": [
    "|SQL                                          || NoSQL|\n",
    "|--------------------------------------------||--------------------------------------------|\n",
    "|RELATIONAL DATABASE MANAGEMENT SYSTEM (RDBMS). ||\tNon-relational or distributed database system.\n",
    "|These databases have fixed or static or predefined schema. ||\tThey have dynamic schema.\n",
    "|These databases are not suited for hierarchical data storage. || These databases are best suited for hierarchical data storage.\n",
    "|These databases are best suited for complex queries.\t|| These databases are not so good for complex queries.\n",
    "|Vertically Scalable.\t|| Horizontally scalable.\n",
    "|Follows ACID property.\t|| Follows CAP(consistency, availability, partition tolerance).\n",
    "|Examples: MySQL, PostgreSQL, Oracle, MS-SQL Server, etc.\t|| Examples: MongoDB, GraphQL, HBase, Neo4j, Cassandra, etc."
   ]
  },
  {
   "cell_type": "markdown",
   "id": "a1cf8be6",
   "metadata": {},
   "source": [
    "##### Q2. What is DDL? Explain why CREATE, DROP, ALTER, and TRUNCATE are used with an example. \n",
    "##### Ans- Data Definition Language(DDL) is a subset of SQL and a part of DBMS(Database Management System). DDL consist of Commands to commands like CREATE, ALTER, TRUNCATE and DROP. These commands are used to create or modify the tables in SQL.\n",
    "###### CREATE :- This command is used to create a new table in SQL. The user has to give information like table name, column names, and their datatypes.\n",
    "###### Syntax –\n",
    "###### CREATE TABLE table_name\n",
    "###### (\n",
    "###### column_1 datatype,\n",
    "###### column_2 datatype,\n",
    "###### column_3 datatype,\n",
    "###### ....\n",
    "###### );"
   ]
  },
  {
   "cell_type": "code",
   "execution_count": null,
   "id": "993b84ae",
   "metadata": {},
   "outputs": [],
   "source": [
    "CREATE TABLE Student_info\n",
    "(\n",
    "College_Id number(2),\n",
    "College_name varchar(30),\n",
    "Branch varchar(10)\n",
    ");\n"
   ]
  },
  {
   "cell_type": "markdown",
   "id": "91de4d91",
   "metadata": {},
   "source": [
    "###### ALTER :-This command is used to add, delete or change columns in the existing table. The user needs to know the existing table name and can do add, delete or modify tasks easily.\n",
    "###### Syntax:- \n",
    "###### ALTER TABLE table_name\n",
    "###### ADD column_name datatype;"
   ]
  },
  {
   "cell_type": "code",
   "execution_count": null,
   "id": "1db33614",
   "metadata": {},
   "outputs": [],
   "source": [
    "ALTER TABLE Student_info\n",
    "ADD CGPA number;"
   ]
  },
  {
   "cell_type": "markdown",
   "id": "55c6386a",
   "metadata": {},
   "source": [
    "###### TRUNCATE :- This command is used to remove all rows from the table, but the structure of the table still exists.\n",
    "###### Syntax:-\n",
    "###### TRUNCATE TABLE table_name;"
   ]
  },
  {
   "cell_type": "code",
   "execution_count": null,
   "id": "c9a65ac0",
   "metadata": {},
   "outputs": [],
   "source": [
    "TRUNCATE TABLE Student_info;"
   ]
  },
  {
   "cell_type": "markdown",
   "id": "d5881ea7",
   "metadata": {},
   "source": [
    "###### DROP :- This command is used to remove an existing table along with its structure from the Database.\n",
    "###### Syntax –\n",
    "###### DROP TABLE table_name;"
   ]
  },
  {
   "cell_type": "code",
   "execution_count": null,
   "id": "b150bbd7",
   "metadata": {},
   "outputs": [],
   "source": [
    "DROP TABLE Student_info;"
   ]
  },
  {
   "cell_type": "markdown",
   "id": "f097a2fb",
   "metadata": {},
   "source": [
    "##### Q3. What is DML? Explain INSERT, UPDATE, and DELETE with an example.\n",
    "##### Ans- The data manipulation language statements are used to retrieve, add, delete, and modify the data that is stored in the objects of database.\n",
    "###### INSERT Command:-\n",
    "###### To add data to a table the INSERT command is used. The syntax of the INSERT command is given below:\n",
    "###### INSERT into table-name values (data, data …)\n",
    "\n"
   ]
  },
  {
   "cell_type": "code",
   "execution_count": null,
   "id": "93c62faa",
   "metadata": {},
   "outputs": [],
   "source": [
    "# lets take the example of EMPLOYEE table\n",
    "\n",
    "INSERT into EMPLOYEE values (10, ‘Management’, ‘E01’, ‘John Abraham’);"
   ]
  },
  {
   "cell_type": "markdown",
   "id": "f4516477",
   "metadata": {},
   "source": [
    "###### Update Command:\n",
    "###### To update a table or row or column in the table we use the update command. The syntax of update command is given below:\n",
    "###### Update table-name set column-name = value where condition;"
   ]
  },
  {
   "cell_type": "code",
   "execution_count": null,
   "id": "ec85a3ca",
   "metadata": {},
   "outputs": [],
   "source": [
    "Update employee set EMP_NO = E04 where DEPT_NO = 30;"
   ]
  },
  {
   "cell_type": "markdown",
   "id": "58f04dbe",
   "metadata": {},
   "source": [
    "###### Delete Command:\n",
    "###### To delete a table row or some data from a table in the database the delete command is used. The syntax of delete command is as follows:\n",
    "###### DELETE from table-name;"
   ]
  },
  {
   "cell_type": "code",
   "execution_count": null,
   "id": "e102c363",
   "metadata": {},
   "outputs": [],
   "source": [
    "DELETE from employee where DEPT_NO = 40;"
   ]
  },
  {
   "cell_type": "markdown",
   "id": "8d0d63fb",
   "metadata": {},
   "source": [
    "##### Q4. What is DQL? Explain SELECT with an example.\n",
    "##### Ans- DQL:- The commands of SQL that are used to retrieve data from the database are collectively called DQL. So all Select statements come under DQL.\n",
    "\n",
    "###### The purpose of DQL Command is to get some schema relation based on the query passed to it.\n",
    "\n",
    "###### Example:\n",
    "###### SELECT – is used to retrieve data from the database.\n",
    "\n",
    "\n",
    "##### The SELECT statement is used to select data from a database.\n",
    "\n",
    "###### The data returned is stored in a result table, called the result-set.\n",
    "\n",
    "###### SELECT Syntax\n",
    "###### SELECT column1, column2, ...\n",
    "###### FROM table_name;"
   ]
  },
  {
   "cell_type": "code",
   "execution_count": null,
   "id": "a367e8c6",
   "metadata": {},
   "outputs": [],
   "source": [
    "# Example of customer table to retrieve the CustomerName and city.\n",
    "SELECT CustomerName, City FROM Customers;"
   ]
  },
  {
   "cell_type": "markdown",
   "id": "9158c1b2",
   "metadata": {},
   "source": [
    "##### Q5. Explain Primary Key and Foreign Key.\n",
    "###### Ans- Primary key:- A primary key generally focuses on the uniqueness of the table. It is a column or a set of columns that uniquely distinguishes every row in the database. It means it should not have any duplicate value. Also, it doesn’t contain a NULL value.\n",
    "##### Foreign key:-The foreign key is a group of one or more columns in a database to uniquely identify another database record in some other table to maintain the referential integrity. It is also known as the referencing key that establishes a relationship between two different tables in a database."
   ]
  },
  {
   "cell_type": "code",
   "execution_count": null,
   "id": "ae288d1f",
   "metadata": {},
   "outputs": [],
   "source": []
  },
  {
   "cell_type": "markdown",
   "id": "1e786f4e",
   "metadata": {},
   "source": [
    "##### Q6. Write a python code to connect MySQL to python. Explain the cursor() and execute() method.\n",
    "##### Ans- The MySQLCursor of mysql-connector-python (and similar libraries) is used to execute statements to communicate with the MySQL database. Using the methods of it you can execute SQL statements, fetch data from the result sets, call procedures.\n",
    "\n"
   ]
  },
  {
   "cell_type": "code",
   "execution_count": null,
   "id": "5ba0f9b9",
   "metadata": {},
   "outputs": [],
   "source": [
    "import mysql.connector\n",
    "\n",
    "#establishing the connection\n",
    "conn = mysql.connector.connect(\n",
    "   user='root', password='password', host='127.0.0.1', database='mydb'\n",
    ")\n",
    "#Creating a cursor object using the cursor() method\n",
    "cursor = conn.cursor()"
   ]
  },
  {
   "cell_type": "markdown",
   "id": "fc1aa862",
   "metadata": {},
   "source": [
    "###### cursor():- \n",
    "###### The cursor provides a number of methods to access the data and metadata of an executed SQL statement.\n",
    "\n",
    "###### execute():-\n",
    "###### This method accepts a MySQL query as a parameter and executes the given query.\n",
    "\n"
   ]
  },
  {
   "cell_type": "code",
   "execution_count": null,
   "id": "ccaf356b",
   "metadata": {},
   "outputs": [],
   "source": []
  },
  {
   "cell_type": "markdown",
   "id": "e3b858fa",
   "metadata": {},
   "source": [
    "###### Q7. Give the order of execution of SQL clauses in an SQL query.\n",
    "##### Ans- FROM and JOINs\n",
    "###### The FROM clause, and subsequent JOINs are first executed to determine the total working set of data that is being queried. This includes subqueries in this clause, and can cause temporary tables to be created under the hood containing all the columns and rows of the tables being joined.\n",
    "\n",
    "###### 2. WHERE\n",
    "###### Once we have the total working set of data, the first-pass WHERE constraints are applied to the individual rows, and rows that do not satisfy the constraint are discarded. Each of the constraints can only access columns directly from the tables requested in the FROM clause. Aliases in the SELECT part of the query are not accessible in most databases since they may include expressions dependent on parts of the query that have not yet executed.\n",
    "\n",
    "###### 3. GROUP BY\n",
    "###### The remaining rows after the WHERE constraints are applied are then grouped based on common values in the column specified in the GROUP BY clause. As a result of the grouping, there will only be as many rows as there are unique values in that column. Implicitly, this means that you should only need to use this when you have aggregate functions in your query.\n",
    "\n",
    "###### 4. HAVING\n",
    "###### If the query has a GROUP BY clause, then the constraints in the HAVING clause are then applied to the grouped rows, discard the grouped rows that don't satisfy the constraint. Like the WHERE clause, aliases are also not accessible from this step in most databases.\n",
    "\n",
    "###### 5. SELECT\n",
    "###### Any expressions in the SELECT part of the query are finally computed.\n",
    "\n",
    "###### 6. DISTINCT\n",
    "###### Of the remaining rows, rows with duplicate values in the column marked as DISTINCT will be discarded.\n",
    "\n",
    "###### 7. ORDER BY\n",
    "###### If an order is specified by the ORDER BY clause, the rows are then sorted by the specified data in either ascending or descending order. Since all the expressions in the SELECT part of the query have been computed, you can reference aliases in this clause.\n",
    "\n",
    "###### 8. LIMIT / OFFSET\n",
    "###### Finally, the rows that fall outside the range specified by the LIMIT and OFFSET are discarded, leaving the final set of rows to be returned from the query."
   ]
  },
  {
   "cell_type": "code",
   "execution_count": null,
   "id": "e6c00b54",
   "metadata": {},
   "outputs": [],
   "source": []
  },
  {
   "cell_type": "code",
   "execution_count": null,
   "id": "f54003ad",
   "metadata": {},
   "outputs": [],
   "source": []
  }
 ],
 "metadata": {
  "kernelspec": {
   "display_name": "Python 3 (ipykernel)",
   "language": "python",
   "name": "python3"
  },
  "language_info": {
   "codemirror_mode": {
    "name": "ipython",
    "version": 3
   },
   "file_extension": ".py",
   "mimetype": "text/x-python",
   "name": "python",
   "nbconvert_exporter": "python",
   "pygments_lexer": "ipython3",
   "version": "3.9.13"
  }
 },
 "nbformat": 4,
 "nbformat_minor": 5
}
