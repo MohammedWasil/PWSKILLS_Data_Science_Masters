{
 "cells": [
  {
   "cell_type": "markdown",
   "id": "88fb8f0d",
   "metadata": {},
   "source": [
    "# PW Skills Data Science Masters \n",
    "\n",
    "## Assignment "
   ]
  },
  {
   "cell_type": "markdown",
   "id": "e38dee8e",
   "metadata": {},
   "source": [
    "##### Q1. What is an API? Give an example, where an API is used in real life.\n",
    "##### Ans- An API is the interface that allows two independent software components to exchange information. An API acts as an intermediary between internal software functions and external ones, creating an exchange of information so seamless that it often goes unnoticed by the end user. Common examples of APIs:\n",
    "###### Sharing flight information between airlines and travel sites\n",
    "###### Using Google Maps in a rideshare app\n",
    "###### Building chatbots in a messaging service\n",
    "###### Embedding YouTube videos into a webpage\n",
    "###### APIs are used to abstract the complexity of back-end logic in a variety of software systems. APIs access the data of a particular software and work to make sure it is compatible with interacting software. End users do not have direct interactions with APIs but rather reap the benefits once their request is fulfilled.\n"
   ]
  },
  {
   "cell_type": "code",
   "execution_count": null,
   "id": "061fdd04",
   "metadata": {},
   "outputs": [],
   "source": []
  },
  {
   "cell_type": "markdown",
   "id": "1cde4540",
   "metadata": {},
   "source": [
    "##### Q2. Give advantages and disadvantages of using API. \n",
    "##### Ans- Advantages of APIs:-\n",
    "###### Efficiency: - API produces efficient, quicker, and more reliable results than the outputs produced by human beings in an organization.\n",
    "###### Flexible delivery of services: -  API provides fast and flexible delivery of services according to developers’ requirements.\n",
    "###### Integration: - The best feature of API is that it allows the movement of data between various sites and thus enhances the integrated user experience.\n",
    "###### Automation: -  As API makes use of robotic computers rather than humans, it produces better and more automated results.\n",
    "###### New functionality: -  While using API the developers find new tools and functionality for API exchanges.\n",
    "###### Disadvantages of APIs:-\n",
    "###### Cost: - Developing and implementing API is costly at times and requires high maintenance and support from developers.\n",
    "###### Security issues: - Using API adds another layer of surface which is then prone to attacks, and hence the security risk problem is common in APIs."
   ]
  },
  {
   "cell_type": "code",
   "execution_count": null,
   "id": "47f07c3f",
   "metadata": {},
   "outputs": [],
   "source": []
  },
  {
   "cell_type": "markdown",
   "id": "5c0f31a2",
   "metadata": {},
   "source": [
    "##### Q3. What is a Web API? Differentiate between API and Web API.\n",
    "##### Ans:- API stands for Application Programming Interface. A Web API is an application programming interface for the Web. A Browser API can extend the functionality of a web browser. A Server API can extend the functionality of a web server.\n",
    "| |Web Services\t| Web API|\n",
    "|-------|-----------------------------|-------------------------------|\n",
    "| 1|Web services are a type of API, which must be accessed through a network connection. |\tAPIs are application interfaces, |2|implying that one application can communicate with another application in a standardized manner.|\n",
    "|3|Web service is used for REST, SOAP and XML-RPC for communication. |\tAPI is used for any style of communication.|\n",
    "|4|All Web services are APIs.|\tAPIs are not web services.|\n",
    "|5|It doesn’t have lightweight design, needs a SOAP convention to send or receive data over the system.| It has a light-weight architecture furthermore, useful for gadgets which have constrained transmission capacity like smart phones.|\n",
    "|6|It provides supports only for the HTTP protocol.|\tIt provides support for the HTTP/s protocol: URL Request/Response Headers, and so on.|\n",
    "|7|It is not open source, however, can be devoured by any customer that comprehends xml.|\tIt is an open source and also ships with .NET framework.|\n",
    "|8|Web service supports only XML.\t| API supports XML and JSON.|\n",
    "|9|Web Services can be hosted on IIS.\t| Web API can be hosted only on IIS and self.|\n"
   ]
  },
  {
   "cell_type": "markdown",
   "id": "a90266a4",
   "metadata": {},
   "source": [
    "\n"
   ]
  },
  {
   "cell_type": "code",
   "execution_count": null,
   "id": "050462df",
   "metadata": {},
   "outputs": [],
   "source": []
  },
  {
   "cell_type": "markdown",
   "id": "2797d6a1",
   "metadata": {},
   "source": [
    "##### Q4. Explain REST and SOAP Architecture. Mention shortcomings of SOAP.\n",
    "##### Ans- REST:- It stands for representational state transfer. REST is a set of architectural principles attuned to the needs of lightweight web services and mobile applications. Because it's a set of guidelines, it leaves the implementation of these recommendations to developers. When a request for data is sent to a REST API, it’s usually done through hypertext transfer protocol (commonly referred to as HTTP). Once a request is received, APIs designed for REST (called RESTful APIs or RESTful web services) can return messages in a variety of formats: HTML, XML, plain text, and JSON. JSON (JavaScript object notation) is favored as a message format because it can be read by any programming language (despite the name), is human- and machine-readable, and is lightweight. In this way, RESTful APIs are more flexible and can be easier to set up.\n",
    "\n",
    "##### SOAP:- SOAP is a standard protocol that was first designed so that applications built with different languages and on different platforms could communicate. Because it is a protocol, it imposes built-in rules that increase its complexity and overhead, which can lead to longer page load times. However, these standards also offer built-in compliances that can make it preferable for enterprise scenarios. The built-in compliance standards include security, atomicity, consistency, isolation, and durability (ACID), which is a set of properties for ensuring reliable database transactions.\n",
    "###### Shortcoming of SOAP:- As SOAP can only transfer messages as XML files, your SOAP API will be less performant, as XML is a verbose format compared to JSON. API calls made to your server will need more bandwidth and it will take more time to process the request and transfer the response back to the client.17-Oct-2022\n"
   ]
  },
  {
   "cell_type": "code",
   "execution_count": null,
   "id": "ae48a109",
   "metadata": {},
   "outputs": [],
   "source": []
  },
  {
   "cell_type": "markdown",
   "id": "378699d4",
   "metadata": {},
   "source": [
    "##### Q5. Differentiate between REST and SOAP.\n",
    "##### Ans- \n",
    "|   |SOAP | SOAP |\n",
    "|---|-------------|---------------------------|\n",
    "|1| SOAP (Simple Object Access Protocol) is a protocol with specific requirements like XML messaging. | REST (Representational State Transfer) is a set of guidelines (architectural style) offering flexible implementation|\n",
    "|2|Heavier and needs more bandwidth |\tLightweight and needs less bandwidth|\n",
    "|3|It defines its own security\t| It inherits security from the underlying transport|\n",
    "|4|It permits XML-based data format only\t| It permits different data formats such as plain text, HTML, XML, JSON, etc.|\n",
    "|5|SOAP calls cannot be cached\t| REST calls can be cached|"
   ]
  },
  {
   "cell_type": "code",
   "execution_count": null,
   "id": "b1ac9fb0",
   "metadata": {},
   "outputs": [],
   "source": []
  }
 ],
 "metadata": {
  "kernelspec": {
   "display_name": "Python 3 (ipykernel)",
   "language": "python",
   "name": "python3"
  },
  "language_info": {
   "codemirror_mode": {
    "name": "ipython",
    "version": 3
   },
   "file_extension": ".py",
   "mimetype": "text/x-python",
   "name": "python",
   "nbconvert_exporter": "python",
   "pygments_lexer": "ipython3",
   "version": "3.9.13"
  }
 },
 "nbformat": 4,
 "nbformat_minor": 5
}
