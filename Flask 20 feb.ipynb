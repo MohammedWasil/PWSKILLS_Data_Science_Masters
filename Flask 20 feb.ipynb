{
 "cells": [
  {
   "cell_type": "markdown",
   "id": "7db1e988",
   "metadata": {},
   "source": [
    "# PW Skills Data Science Masters \n",
    "\n",
    "## Assignment "
   ]
  },
  {
   "cell_type": "markdown",
   "id": "a0065a61",
   "metadata": {},
   "source": [
    "##### Q1. Explain GET and POST methods.\n",
    "##### Ans- GET method:- This the most common method. A GET message is send, and the server returns data. \n",
    "##### POST method:- Used to send HTML form data to the server. The data received by the POST method is not cached by the server.\n"
   ]
  },
  {
   "cell_type": "code",
   "execution_count": null,
   "id": "7bb74d4f",
   "metadata": {},
   "outputs": [],
   "source": []
  },
  {
   "cell_type": "markdown",
   "id": "154bb617",
   "metadata": {},
   "source": [
    "##### Q2. Why is request used in Flask?\n",
    "##### Ans- The Request, in Flask, is an object that contains all the data sent from the Client to Server. This data can be recovered using the GET/POST Methods."
   ]
  },
  {
   "cell_type": "code",
   "execution_count": null,
   "id": "db62d213",
   "metadata": {},
   "outputs": [],
   "source": []
  },
  {
   "cell_type": "markdown",
   "id": "d53e587b",
   "metadata": {},
   "source": [
    "##### Q3. Why is redirect() used in Flask?\n",
    "##### Ans- Flask redirect is defined as a function or utility in Flask which allows developers to redirect users to a specified URL and assign a specified status code. When this function is called, a response object is returned, and the redirection happens to the target location with the status code. When a website is visited, server receives a request and after processing responds to the request with a three-digit code known as the HTTP code. "
   ]
  },
  {
   "cell_type": "code",
   "execution_count": null,
   "id": "68c81a5b",
   "metadata": {},
   "outputs": [],
   "source": []
  },
  {
   "cell_type": "markdown",
   "id": "dbdead32",
   "metadata": {},
   "source": [
    "##### Q4. What are templates in Flask? Why is the render_template() function used?\n",
    "##### Ans- emplates are files that contain static data as well as placeholders for dynamic data. A template is rendered with specific data to produce a final document. Flask uses the Jinja template library to render templates. In your application, you will use templates to render HTML which will display in the user's browser.\n",
    "##### It basically allows creating web applications in a Pythonic syntax and concepts. With Flask, we can use Python libraries and tools in our web applications. Using Flask we can set up a webserver to load up some basic HTML templates along with Jinja2 templating syntax"
   ]
  },
  {
   "cell_type": "code",
   "execution_count": null,
   "id": "07f14784",
   "metadata": {},
   "outputs": [],
   "source": []
  }
 ],
 "metadata": {
  "kernelspec": {
   "display_name": "Python 3 (ipykernel)",
   "language": "python",
   "name": "python3"
  },
  "language_info": {
   "codemirror_mode": {
    "name": "ipython",
    "version": 3
   },
   "file_extension": ".py",
   "mimetype": "text/x-python",
   "name": "python",
   "nbconvert_exporter": "python",
   "pygments_lexer": "ipython3",
   "version": "3.9.13"
  }
 },
 "nbformat": 4,
 "nbformat_minor": 5
}
