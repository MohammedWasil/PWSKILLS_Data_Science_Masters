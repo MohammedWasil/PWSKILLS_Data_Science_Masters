{
 "cells": [
  {
   "cell_type": "markdown",
   "id": "f3635519",
   "metadata": {},
   "source": [
    "# PW Skills Data Science Masters \n",
    "\n",
    "## Assignment "
   ]
  },
  {
   "cell_type": "markdown",
   "id": "df9cb13f",
   "metadata": {},
   "source": [
    "##### Q1. What is Flask Framework? What are the advantages of Flask Framework?\n",
    "##### Ans-  Flask is a web framework. This means flask provides you with tools, libraries and technologies that allow you to build a web application.\n",
    "###### Advantages of Flask:-\n",
    "###### Scalable. Size is everything, and Flask's status as a microframework means that you can use it to grow a tech project such as a web app incredibly quickly. \n",
    "###### Flexible. \n",
    "###### Easy to negotiate. \n",
    "###### Lightweight. \n",
    "###### Documentation. \n",
    "###### Not a lot of tools. \n",
    "###### Difficult to get familiar with a larger Flask app. ...\n",
    "###### Maintenance costs"
   ]
  },
  {
   "cell_type": "code",
   "execution_count": null,
   "id": "e9d1a155",
   "metadata": {},
   "outputs": [],
   "source": []
  },
  {
   "cell_type": "markdown",
   "id": "852e31a5",
   "metadata": {},
   "source": [
    "##### Q2. Create a simple Flask application to display ‘Hello World!!’. Attach the screenshot of the output in Jupyter Notebook."
   ]
  },
  {
   "cell_type": "code",
   "execution_count": null,
   "id": "7e76363a",
   "metadata": {},
   "outputs": [],
   "source": [
    "from flask import Flask\n",
    "\n",
    "app = Flask(__name__)\n",
    "\n",
    "@app.route(\"/\")\n",
    "def hello_world():\n",
    "    return \"<h1>Hello, World!</h1>\"\n",
    "\n",
    "if __name__==\"__main__\":\n",
    "    app.run(host=\"0.0.0.0\")"
   ]
  },
  {
   "cell_type": "markdown",
   "id": "464a864e",
   "metadata": {},
   "source": [
    "<img src=\"Flask snapshot.png\">"
   ]
  },
  {
   "cell_type": "code",
   "execution_count": null,
   "id": "01ab3cff",
   "metadata": {},
   "outputs": [],
   "source": []
  },
  {
   "cell_type": "markdown",
   "id": "5530fa2e",
   "metadata": {},
   "source": [
    "##### Q3 . What is App routing in Flask? Why do we use app routes?\n",
    "#### Ans- App Routing means mapping the URLs to a specific function that will handle the logic for that URL. We use app routes  because Modern web frameworks use more meaningful URLs to help users remember the URLs and make navigation simpler."
   ]
  },
  {
   "cell_type": "code",
   "execution_count": null,
   "id": "7f02a55a",
   "metadata": {},
   "outputs": [],
   "source": []
  },
  {
   "cell_type": "markdown",
   "id": "b447cc9b",
   "metadata": {},
   "source": [
    "##### 4. Create a “/welcome” route to display the welcome message “Welcome to ABC Corporation” and a “/” route to show the following details:\n",
    "##### Company Name: ABC Corporation\n",
    "##### Location: India\n",
    "##### Contact Detail: 999-999-9999"
   ]
  },
  {
   "cell_type": "markdown",
   "id": "24b5892b",
   "metadata": {},
   "source": [
    "<img src=\"SC-1.png\">\n",
    "<img src=\"SC-2.png\">"
   ]
  },
  {
   "cell_type": "code",
   "execution_count": null,
   "id": "3c1b5007",
   "metadata": {},
   "outputs": [],
   "source": []
  },
  {
   "cell_type": "markdown",
   "id": "0a6fe4b7",
   "metadata": {},
   "source": [
    "##### Q5. What function is used in Flask for URL Building? Write a Python code to demonstrate the working of the url_for() function.\n",
    "##### Ans- To build a URL to a specific function, use the url_for() function. It accepts the name of the function as its first argument and any number of keyword arguments, each corresponding to a variable part of the URL rule."
   ]
  },
  {
   "cell_type": "code",
   "execution_count": null,
   "id": "9b44b04e",
   "metadata": {},
   "outputs": [],
   "source": [
    "from flask import url_for, Flask\n",
    "appFlask = Flask(__name__)\n",
    "@appFlask.route('/home')\n",
    "def home():\n",
    "    return 'We are in Home Page!'\n",
    "with appFlask.test_request_context():\n",
    "    print(url_for('login'))"
   ]
  },
  {
   "cell_type": "code",
   "execution_count": null,
   "id": "4c2216fa",
   "metadata": {},
   "outputs": [],
   "source": []
  }
 ],
 "metadata": {
  "kernelspec": {
   "display_name": "Python 3 (ipykernel)",
   "language": "python",
   "name": "python3"
  },
  "language_info": {
   "codemirror_mode": {
    "name": "ipython",
    "version": 3
   },
   "file_extension": ".py",
   "mimetype": "text/x-python",
   "name": "python",
   "nbconvert_exporter": "python",
   "pygments_lexer": "ipython3",
   "version": "3.9.13"
  }
 },
 "nbformat": 4,
 "nbformat_minor": 5
}
