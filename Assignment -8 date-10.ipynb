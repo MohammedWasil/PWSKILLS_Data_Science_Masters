{
 "cells": [
  {
   "cell_type": "markdown",
   "id": "cd79e27c",
   "metadata": {},
   "source": [
    "# PW Skills Data Science Masters\n",
    "## Assignment -8"
   ]
  },
  {
   "cell_type": "markdown",
   "id": "0a45f222",
   "metadata": {},
   "source": [
    "##### Ques.1-  Which function is used to open a file? What are the different modes of opening a file? Explain each mode of file opening"
   ]
  },
  {
   "cell_type": "markdown",
   "id": "67202ffe",
   "metadata": {},
   "source": [
    "###### Ans- open() function is used to open a file and open() function takes two parameters; filename, and mode. There are four different methods (modes) for opening a file:\n",
    "\n",
    "###### \"r\" - Read - Default value. Opens a file for reading, error if the file does not exist\n",
    "\n",
    "###### \"a\" - Append - Opens a file for appending, creates the file if it does not exist\n",
    "\n",
    "###### \"w\" - Write - Opens a file for writing, creates the file if it does not exist\n",
    "\n",
    "###### \"x\" - Create - Creates the specified file, returns an error if the file exists"
   ]
  },
  {
   "cell_type": "code",
   "execution_count": null,
   "id": "6337d619",
   "metadata": {},
   "outputs": [],
   "source": []
  },
  {
   "cell_type": "markdown",
   "id": "49833b7c",
   "metadata": {},
   "source": [
    "##### Ques.2- Why close() function is used? Why is it important to close a file?\n",
    "\n",
    "###### Ans- The close() function is used close an open file.. it’s important to close files in Python. Because files are limited resources managed by the operating system, making sure files are closed after use will protect against hard-to-debug issues like running out of file handles or experiencing corrupted data. The best defense is always to open files with a context manager.\n",
    "\n"
   ]
  },
  {
   "cell_type": "code",
   "execution_count": null,
   "id": "dbf987fa",
   "metadata": {},
   "outputs": [],
   "source": []
  },
  {
   "cell_type": "markdown",
   "id": "63fc9ceb",
   "metadata": {},
   "source": [
    "##### Ques.3- Write a python program to create a text file. Write ‘I want to become a Data Scientist’ in that file. Then close the file. Open this file and read the content of the file.  "
   ]
  },
  {
   "cell_type": "code",
   "execution_count": 1,
   "id": "f3bcb8c1",
   "metadata": {},
   "outputs": [
    {
     "name": "stdout",
     "output_type": "stream",
     "text": [
      " ‘I want to become a Data Scientist’ \n",
      "\n"
     ]
    }
   ],
   "source": [
    "f = open(\"test.txt\", \"w\")\n",
    "file = [\" ‘I want to become a Data Scientist’ \"]\n",
    "\n",
    "f.write(\" ‘I want to become a Data Scientist’ \")\n",
    "f.close()\n",
    "f = open(\"test.txt\", \"r\")\n",
    "print(f.read())\n",
    "print()"
   ]
  },
  {
   "cell_type": "code",
   "execution_count": null,
   "id": "9075b04a",
   "metadata": {},
   "outputs": [],
   "source": []
  },
  {
   "cell_type": "markdown",
   "id": "ac203a94",
   "metadata": {},
   "source": [
    "##### Ques.4-  Explain the following with python code: read(), readline() and readlines()."
   ]
  },
  {
   "cell_type": "markdown",
   "id": "51d9b38c",
   "metadata": {},
   "source": [
    "##### Ans:-read() method:\n",
    "###### read()  returns the read bytes in form of a string. Reads n bytes, if no n specified, reads the entire file."
   ]
  },
  {
   "cell_type": "code",
   "execution_count": 2,
   "id": "8b348648",
   "metadata": {},
   "outputs": [
    {
     "name": "stdout",
     "output_type": "stream",
     "text": [
      "Python is the best programming language in the world in 2020\n",
      "PW Skills Data Science Masters course is the best course.\n",
      "\n"
     ]
    }
   ],
   "source": [
    "file = open(\"sample.txt\", \"r\")\n",
    "print(file.read())"
   ]
  },
  {
   "cell_type": "markdown",
   "id": "eee8e849",
   "metadata": {},
   "source": [
    "######  readline() method: \n",
    "###### readline() method will return a line from the file when called."
   ]
  },
  {
   "cell_type": "code",
   "execution_count": 3,
   "id": "65029adc",
   "metadata": {},
   "outputs": [
    {
     "name": "stdout",
     "output_type": "stream",
     "text": [
      "Python is the best programming language in the world in 2020\n",
      "\n",
      "PW Skills Data Science Masters course is the best course.\n",
      "\n"
     ]
    }
   ],
   "source": [
    "file = open(\"sample.txt\", \"r\")\n",
    "example1 = file.readline()\n",
    "example2 = file.readline(60)\n",
    "print(example1)\n",
    "print(example2)"
   ]
  },
  {
   "cell_type": "markdown",
   "id": "6c3c1e83",
   "metadata": {},
   "source": [
    "###### readlines() method:\n",
    "###### readlines() method will return all the lines in a file in the format of a list where each element is a line in the file."
   ]
  },
  {
   "cell_type": "code",
   "execution_count": 4,
   "id": "dd9db32d",
   "metadata": {},
   "outputs": [
    {
     "name": "stdout",
     "output_type": "stream",
     "text": [
      "['Python is the best programming language in the world in 2020\\n', 'PW Skills Data Science Masters course is the best course.\\n']\n"
     ]
    }
   ],
   "source": [
    "file = open(\"sample.txt\", \"r\")\n",
    "example1 = file.readlines()\n",
    "print(example1)"
   ]
  },
  {
   "cell_type": "code",
   "execution_count": null,
   "id": "9e07af70",
   "metadata": {},
   "outputs": [],
   "source": []
  },
  {
   "cell_type": "code",
   "execution_count": null,
   "id": "094a687c",
   "metadata": {},
   "outputs": [],
   "source": []
  },
  {
   "cell_type": "markdown",
   "id": "f8f36842",
   "metadata": {},
   "source": [
    "##### Ques.5-  Explain why with statement is used with open(). What is the advantage of using with statement and open() together?"
   ]
  },
  {
   "cell_type": "markdown",
   "id": "988bb01c",
   "metadata": {},
   "source": [
    "##### Ans- The with statement works with the open() function to open a file. Unlike open() where you have to close the file with the close() method, the with statement closes the file for you without you telling it to. This is because the with statement calls 2 built-in methods behind the scene – __enter()__ and __exit()__ . The advantage of using with statement and open() together because wirh statement close the file automatically."
   ]
  },
  {
   "cell_type": "code",
   "execution_count": null,
   "id": "a83acf6a",
   "metadata": {},
   "outputs": [],
   "source": []
  },
  {
   "cell_type": "markdown",
   "id": "d90ec9c8",
   "metadata": {},
   "source": [
    "##### Ques.6- Explain the write() and writelines() functions. Give a suitable example.\n",
    "##### Ans- write() function:-\n",
    "###### The write() function will write the content in the file without adding any extra characters.\n",
    "###### Syntax:\n",
    "###### file_name.write(content) "
   ]
  },
  {
   "cell_type": "code",
   "execution_count": 5,
   "id": "65bab3d5",
   "metadata": {},
   "outputs": [
    {
     "name": "stdout",
     "output_type": "stream",
     "text": [
      "Enter the name of the course: Data Science Masters\n",
      "Enter the name of the course: Data Science Masters\n",
      "Enter the name of the course: Data Science Masters\n",
      "Data is written into the file.\n"
     ]
    }
   ],
   "source": [
    "file = open(\"PW Skill.txt\", \"w\")\n",
    "  \n",
    "for i in range(3):\n",
    "    name = input(\"Enter the name of the course: \")\n",
    "    file.write(name)\n",
    "    file.write(\"\\n\")\n",
    "     \n",
    "file.close()\n",
    "  \n",
    "print(\"Data is written into the file.\")"
   ]
  },
  {
   "cell_type": "markdown",
   "id": "6e584a13",
   "metadata": {},
   "source": [
    "##### writelines() function:-\n",
    "###### This function writes the content of a list to a file.\n",
    "\n",
    "###### Syntax:   \n",
    "###### file_name.writelines(list_of_lines)."
   ]
  },
  {
   "cell_type": "code",
   "execution_count": 7,
   "id": "bca6b8de",
   "metadata": {},
   "outputs": [
    {
     "name": "stdout",
     "output_type": "stream",
     "text": [
      "Enter the name of the course: Data Science Masters\n",
      "Enter the name of the course: Data Science Masters\n",
      "Enter the name of the course: Data Science Masters\n",
      "Data is written into the file.\n"
     ]
    }
   ],
   "source": [
    "file1 = open(\"Pw Skill.txt\", \"w\")\n",
    "lst = []\n",
    "for i in range(3):\n",
    "    name = input(\"Enter the name of the course: \")\n",
    "    lst.append(name + '\\n')\n",
    "      \n",
    "file1.writelines(lst)\n",
    "file1.close()\n",
    "print(\"Data is written into the file.\") "
   ]
  },
  {
   "cell_type": "code",
   "execution_count": null,
   "id": "00a125fc",
   "metadata": {},
   "outputs": [],
   "source": []
  }
 ],
 "metadata": {
  "kernelspec": {
   "display_name": "Python 3 (ipykernel)",
   "language": "python",
   "name": "python3"
  },
  "language_info": {
   "codemirror_mode": {
    "name": "ipython",
    "version": 3
   },
   "file_extension": ".py",
   "mimetype": "text/x-python",
   "name": "python",
   "nbconvert_exporter": "python",
   "pygments_lexer": "ipython3",
   "version": "3.9.13"
  }
 },
 "nbformat": 4,
 "nbformat_minor": 5
}
